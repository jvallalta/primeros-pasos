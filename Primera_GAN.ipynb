{
  "nbformat": 4,
  "nbformat_minor": 0,
  "metadata": {
    "colab": {
      "name": "Primera_GAN.ipynb",
      "provenance": [],
      "authorship_tag": "ABX9TyPlARG45PAqSdlcYp8E6UMy",
      "include_colab_link": true
    },
    "kernelspec": {
      "name": "python3",
      "display_name": "Python 3"
    },
    "language_info": {
      "name": "python"
    }
  },
  "cells": [
    {
      "cell_type": "markdown",
      "metadata": {
        "id": "view-in-github",
        "colab_type": "text"
      },
      "source": [
        "<a href=\"https://colab.research.google.com/github/jvallalta/primeros-pasos/blob/main/Primera_GAN.ipynb\" target=\"_parent\"><img src=\"https://colab.research.google.com/assets/colab-badge.svg\" alt=\"Open In Colab\"/></a>"
      ]
    },
    {
      "cell_type": "markdown",
      "metadata": {
        "id": "-HfjPXvhwErI"
      },
      "source": [
        "# Modelos generativos\n",
        "En primer lugar vamos a ver qué son los modelos generativos y qué tipos existen."
      ]
    },
    {
      "cell_type": "markdown",
      "metadata": {
        "id": "znfD9JsAwmRZ"
      },
      "source": [
        "Lo primero que hemos de diferenciar es entre modelos discriminativos y modelos generativos. \n",
        "- Los modelos discriminativos nos permiten diferenciar entre clases y son los más conocidos dentro del machine learning. También los llamamos clasificadores. Los modelos discriminativos son capaces de determinar a partir de una seríe de características X la clase a la que pertenecen Y (X->Y). Es decir, intentan modelar la probablidad P(Y|X).\n",
        "- Los modelos generativos intentan hacer una representación realista de una clase. Toman como entrada ruido aleatorio y quizás un clase y generan las caracteristicas (Ruido, Y ->X). El ruido aleatorio se utilizar para no generar cada vez el mismo elemento de la clase (por ejemplo, el mismo perro). Los modelos generativos intentan modelar la probabilidad P(X|Y). Los modelos generativos más utilizados son:\n",
        "  - Autoencoders variacionales (VAE).\n",
        "  - Redes generativas antagónicas (GAN).\n",
        "\n",
        "En resumen, un modelo generativo aprender a generar ejemplos realistas de datos."
      ]
    },
    {
      "cell_type": "markdown",
      "metadata": {
        "id": "RLsBOz1W1ql1"
      },
      "source": [
        "Las GANs se pueden utilizar para:\n",
        "- Generar imágenes realistas.\n",
        "- Transferir estilos entre dominios (CycleGAN).\n",
        "- Generar imágenes a partir de dibujos o bocetos.\n",
        "- Generar imagen 3D de un objeto a partir de su imagen 2D.\n"
      ]
    },
    {
      "cell_type": "markdown",
      "metadata": {
        "id": "NE1E5IjB2kga"
      },
      "source": [
        "[Esta persona no existe](https://www.thispersondoesnotexist.com/)"
      ]
    },
    {
      "cell_type": "markdown",
      "metadata": {
        "id": "vtdrxwxW3HDZ"
      },
      "source": [
        "# Intuición detrás de las GANs\n",
        "Una GAN tienes dos componentes: el generador y el discriminador. Son dos redes neuronales diferentes. El generador tiene como objetivo generar imágenes que puedan ser reales y engañar al discriminador.  El discriminador debe aprender a distinguir lo que es real de lo que es falso."
      ]
    },
    {
      "cell_type": "code",
      "metadata": {
        "id": "7sYP8lS7wlbk"
      },
      "source": [
        ""
      ],
      "execution_count": null,
      "outputs": []
    }
  ]
}