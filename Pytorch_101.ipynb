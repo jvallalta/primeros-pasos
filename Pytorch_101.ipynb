{
  "nbformat": 4,
  "nbformat_minor": 0,
  "metadata": {
    "colab": {
      "name": "Pytorch_101",
      "provenance": [],
      "authorship_tag": "ABX9TyNiu+PO6wUgNmTqxeRR1Kkq",
      "include_colab_link": true
    },
    "kernelspec": {
      "name": "python3",
      "display_name": "Python 3"
    },
    "language_info": {
      "name": "python"
    }
  },
  "cells": [
    {
      "cell_type": "markdown",
      "metadata": {
        "id": "view-in-github",
        "colab_type": "text"
      },
      "source": [
        "<a href=\"https://colab.research.google.com/github/jvallalta/primeros-pasos/blob/main/Pytorch_101.ipynb\" target=\"_parent\"><img src=\"https://colab.research.google.com/assets/colab-badge.svg\" alt=\"Open In Colab\"/></a>"
      ]
    },
    {
      "cell_type": "markdown",
      "metadata": {
        "id": "R9WRBJ6WyShq"
      },
      "source": [
        "# Primeros pasos con PyTorch\n",
        "\n",
        "PyTorch es un framework para deep learning muy popular desarrollado por Facebook. Junto con TensorFlow conforman los dos frameworks de referencia para deep learning en la actualidad.\n",
        "\n"
      ]
    },
    {
      "cell_type": "markdown",
      "metadata": {
        "id": "0Dcl9fOYzPAQ"
      },
      "source": [
        "## Definiendo un modelo en PyTorch"
      ]
    },
    {
      "cell_type": "code",
      "metadata": {
        "id": "wIrmDKw5yMYy"
      },
      "source": [
        "import torch\n",
        "from torch import nn"
      ],
      "execution_count": null,
      "outputs": []
    },
    {
      "cell_type": "code",
      "metadata": {
        "id": "iKdyxUJnzXYP"
      },
      "source": [
        "# Definimos el modelo como una clase\n",
        "class RegresionLogistica(nn.Module):\n",
        "    def __init__(self, input):\n",
        "      #Método de inicialización con parámetros\n",
        "      super().__init__()\n",
        "      #Definimos la arquitectura\n",
        "      self.reg_log = nn.Sequential(\n",
        "          nn.Linear(input, 1),\n",
        "          nn.Sigmoid()\n",
        "      )\n",
        "  \n",
        "    def forward(self,x):\n",
        "      return self.reg_log(x)"
      ],
      "execution_count": null,
      "outputs": []
    },
    {
      "cell_type": "markdown",
      "metadata": {
        "id": "k9wQ4cgE3GTI"
      },
      "source": [
        "## Entrenando el modelo en PyTorch"
      ]
    },
    {
      "cell_type": "code",
      "metadata": {
        "id": "Vt-YptRh1LWp"
      },
      "source": [
        "# Instanciamos un modelo\n",
        "modelo = RegresionLogistica(16)"
      ],
      "execution_count": null,
      "outputs": []
    },
    {
      "cell_type": "code",
      "metadata": {
        "id": "q6DSz3G-3bfj"
      },
      "source": [
        "# Definimos función de coste\n",
        "criterion = nn.BCELoss()"
      ],
      "execution_count": null,
      "outputs": []
    },
    {
      "cell_type": "code",
      "metadata": {
        "id": "kiHqeG553uyy"
      },
      "source": [
        "# Optimizador\n",
        "optimizador = torch.optim.SGD(modelo.parameters(), lr=0.01)"
      ],
      "execution_count": null,
      "outputs": []
    },
    {
      "cell_type": "code",
      "metadata": {
        "id": "K7STfUMs5Udg"
      },
      "source": [
        "# Pendiente de revisar\n",
        "import numpy as np\n",
        "X = torch.tensor(np.random.rand(1000,16))\n",
        "y = torch.tensor(np.log(range(1,1001)))"
      ],
      "execution_count": null,
      "outputs": []
    },
    {
      "cell_type": "code",
      "metadata": {
        "id": "jFwP1oam4HG2"
      },
      "source": [
        "n_epochs = 100\n",
        "for t in range(n_epochs):\n",
        "  #Forward\n",
        "  y_pred = modelo(X.float())\n",
        "  loss = criterion(y_pred, y)\n",
        "  #Paso optimización\n",
        "  optimizador.zero_grad()\n",
        "  loss.backward()\n",
        "  optimizador.step()"
      ],
      "execution_count": null,
      "outputs": []
    },
    {
      "cell_type": "code",
      "metadata": {
        "id": "7KY6VJfb7zZ4"
      },
      "source": [
        ""
      ],
      "execution_count": null,
      "outputs": []
    }
  ]
}