{
  "nbformat": 4,
  "nbformat_minor": 0,
  "metadata": {
    "colab": {
      "name": "Pytorch_101",
      "provenance": [],
      "authorship_tag": "ABX9TyM1DC1Cydm2LDRiOPQdcVd/",
      "include_colab_link": true
    },
    "kernelspec": {
      "name": "python3",
      "display_name": "Python 3"
    },
    "language_info": {
      "name": "python"
    }
  },
  "cells": [
    {
      "cell_type": "markdown",
      "metadata": {
        "id": "view-in-github",
        "colab_type": "text"
      },
      "source": [
        "<a href=\"https://colab.research.google.com/github/jvallalta/primeros-pasos/blob/main/Pytorch_101.ipynb\" target=\"_parent\"><img src=\"https://colab.research.google.com/assets/colab-badge.svg\" alt=\"Open In Colab\"/></a>"
      ]
    },
    {
      "cell_type": "markdown",
      "metadata": {
        "id": "R9WRBJ6WyShq"
      },
      "source": [
        "# Primeros pasos con PyTorch\n",
        "\n",
        "PyTorch es un framework para deep learning muy popular desarrollado por Facebook. Junto con TensorFlow conforman los dos frameworks de referencia para deep learning en la actualidad.\n",
        "\n"
      ]
    },
    {
      "cell_type": "markdown",
      "metadata": {
        "id": "0Dcl9fOYzPAQ"
      },
      "source": [
        "## Definiendo un modelo en PyTorch"
      ]
    },
    {
      "cell_type": "code",
      "metadata": {
        "id": "wIrmDKw5yMYy"
      },
      "source": [
        "import torch\n",
        "from torch import nn"
      ],
      "execution_count": null,
      "outputs": []
    },
    {
      "cell_type": "code",
      "metadata": {
        "id": "iKdyxUJnzXYP"
      },
      "source": [
        "# Definimos el modelo como una clase\n",
        "class RegresionLogistica(nn.Module):\n",
        "    def __init__(self, input):\n",
        "      #Método de inicialización con parámetros\n",
        "      super().__init__()\n",
        "      #Definimos la arquitectura\n",
        "      self.reg_log = nn.Sequential(\n",
        "          nn.Linear(input, 1),\n",
        "          nn.Sigmoid()\n",
        "      )\n",
        "  \n",
        "    def forward(self,x):\n",
        "      return self.reg_log(x)"
      ],
      "execution_count": null,
      "outputs": []
    },
    {
      "cell_type": "markdown",
      "metadata": {
        "id": "k9wQ4cgE3GTI"
      },
      "source": [
        "## Entrenando el modelo en PyTorch"
      ]
    },
    {
      "cell_type": "code",
      "metadata": {
        "id": "Vt-YptRh1LWp"
      },
      "source": [
        "# Instanciamos un modelo\n",
        "modelo = RegresionLogistica(16)"
      ],
      "execution_count": null,
      "outputs": []
    },
    {
      "cell_type": "code",
      "metadata": {
        "id": "q6DSz3G-3bfj"
      },
      "source": [
        "# Definimos función de coste\n",
        "criterion = nn.BCELoss()"
      ],
      "execution_count": null,
      "outputs": []
    },
    {
      "cell_type": "code",
      "metadata": {
        "id": "kiHqeG553uyy"
      },
      "source": [
        "# Optimizador\n",
        "optimizador = torch.optim.SGD(modelo.parameters(), lr=0.01)"
      ],
      "execution_count": null,
      "outputs": []
    },
    {
      "cell_type": "code",
      "metadata": {
        "id": "K7STfUMs5Udg"
      },
      "source": [
        "# Pendiente de revisar\n",
        "import numpy as np\n",
        "X = torch.tensor(np.random.rand(1000,16))\n",
        "y = torch.tensor(np.log(range(1,1001)))"
      ],
      "execution_count": null,
      "outputs": []
    },
    {
      "cell_type": "code",
      "metadata": {
        "id": "jFwP1oam4HG2"
      },
      "source": [
        "# Bucle de entrenamiento\n",
        "n_epochs = 100\n",
        "for t in range(n_epochs):\n",
        "  #Forward\n",
        "  y_pred = modelo(X.float())\n",
        "  loss = criterion(y_pred, y)\n",
        "  #Paso optimización\n",
        "  optimizador.zero_grad()\n",
        "  loss.backward()\n",
        "  optimizador.step()"
      ],
      "execution_count": null,
      "outputs": []
    },
    {
      "cell_type": "markdown",
      "metadata": {
        "id": "z9zwiP9L9w5P"
      },
      "source": [
        "## Tensores\n",
        "\n",
        "Los tensores son una estructura de datos especializada que es muy similar a las matrices. En PyTorch, usamos tensores para codificar las entradas y salidas de un modelo, así como los parámetros del modelo.\n",
        "\n",
        "Los tensores son similares a los ndarrays de NumPy, excepto que los tensores pueden ejecutarse en GPU u otros aceleradores de hardware. De hecho, los tensores y las matrices NumPy a menudo pueden compartir la misma memoria subyacente, lo que elimina la necesidad de copiar datos (consulte Puente con NumPy). Los tensores también están optimizados para la diferenciación automática (veremos más sobre eso más adelante en la sección Autograduación). Si está familiarizado con los ndarrays, se sentirá como en casa con la API de Tensor. Si no, ¡síguelo!"
      ]
    },
    {
      "cell_type": "markdown",
      "metadata": {
        "id": "6O7A65Ch-GcY"
      },
      "source": [
        "## Inicializando un tensor"
      ]
    },
    {
      "cell_type": "code",
      "metadata": {
        "id": "8XuKmpfO-NVR"
      },
      "source": [
        "import torch\n",
        "import numpy as np"
      ],
      "execution_count": 41,
      "outputs": []
    },
    {
      "cell_type": "code",
      "metadata": {
        "colab": {
          "base_uri": "https://localhost:8080/"
        },
        "id": "7KY6VJfb7zZ4",
        "outputId": "994a31f7-efa7-48ed-cba5-9c1fd42e86b8"
      },
      "source": [
        "# Directamente de los datos\n",
        "data = [[1, 2],[3, 4]]\n",
        "x_data = torch.tensor(data)\n",
        "\n",
        "# De un array numpy\n",
        "np_array = np.array(data)\n",
        "x_np = torch.from_numpy(np_array) \n",
        "\n",
        "# A partir de otro tensor\n",
        "x_ones = torch.ones_like(x_data) # retains the properties of x_data\n",
        "print(f\"Ones Tensor: \\n {x_ones} \\n\")\n",
        "\n",
        "x_rand = torch.rand_like(x_data, dtype=torch.float) \n",
        "print(f\"Random Tensor: \\n {x_rand} \\n\")"
      ],
      "execution_count": 44,
      "outputs": [
        {
          "output_type": "stream",
          "text": [
            "Ones Tensor: \n",
            " tensor([[1, 1],\n",
            "        [1, 1]]) \n",
            "\n",
            "Random Tensor: \n",
            " tensor([[0.2281, 0.0339],\n",
            "        [0.3529, 0.8773]]) \n",
            "\n"
          ],
          "name": "stdout"
        }
      ]
    },
    {
      "cell_type": "code",
      "metadata": {
        "colab": {
          "base_uri": "https://localhost:8080/"
        },
        "id": "VVTaNmB3-VPn",
        "outputId": "cac1ce45-ce5e-4ac8-bf85-0c81dca9da73"
      },
      "source": [
        "# Con valores aleatorios o constantes\n",
        "shape = (2,3,)\n",
        "rand_tensor = torch.rand(shape)\n",
        "ones_tensor = torch.ones(shape)\n",
        "zeros_tensor = torch.zeros(shape)\n",
        "\n",
        "print(f\"Random Tensor: \\n {rand_tensor} \\n\")\n",
        "print(f\"Ones Tensor: \\n {ones_tensor} \\n\")\n",
        "print(f\"Zeros Tensor: \\n {zeros_tensor}\")"
      ],
      "execution_count": 45,
      "outputs": [
        {
          "output_type": "stream",
          "text": [
            "Random Tensor: \n",
            " tensor([[0.2366, 0.9153, 0.6165],\n",
            "        [0.5332, 0.2502, 0.2716]]) \n",
            "\n",
            "Ones Tensor: \n",
            " tensor([[1., 1., 1.],\n",
            "        [1., 1., 1.]]) \n",
            "\n",
            "Zeros Tensor: \n",
            " tensor([[0., 0., 0.],\n",
            "        [0., 0., 0.]])\n"
          ],
          "name": "stdout"
        }
      ]
    },
    {
      "cell_type": "markdown",
      "metadata": {
        "id": "FQu7GqLF_Ylw"
      },
      "source": [
        "## Atributos del tensor\n",
        "Los atributos del tensor describen su tamaño, el tipo de datos y el dispositivo donde está almacenado"
      ]
    },
    {
      "cell_type": "code",
      "metadata": {
        "colab": {
          "base_uri": "https://localhost:8080/"
        },
        "id": "vlPdotbX_DgN",
        "outputId": "f192575c-a257-479b-9928-46388f4630ad"
      },
      "source": [
        "tensor = torch.rand(3,4)\n",
        "\n",
        "print(f\"Shape of tensor: {tensor.shape}\")\n",
        "print(f\"Datatype of tensor: {tensor.dtype}\")\n",
        "print(f\"Device tensor is stored on: {tensor.device}\")"
      ],
      "execution_count": 46,
      "outputs": [
        {
          "output_type": "stream",
          "text": [
            "Shape of tensor: torch.Size([3, 4])\n",
            "Datatype of tensor: torch.float32\n",
            "Device tensor is stored on: cpu\n"
          ],
          "name": "stdout"
        }
      ]
    },
    {
      "cell_type": "markdown",
      "metadata": {
        "id": "QZpI6MP-_9kR"
      },
      "source": [
        "## Operaciones con tensores"
      ]
    },
    {
      "cell_type": "markdown",
      "metadata": {
        "id": "4A6Cm6V-ARE1"
      },
      "source": [
        "Más de 100 operaciones de tensor, que incluyen aritmética, álgebra lineal, manipulación de matrices (transposición, indexación, corte), muestreo y más, se describen detalladamente [aquí](https://pytorch.org/docs/stable/torch.html).\n",
        "\n",
        "Cada una de estas operaciones se puede ejecutar en la GPU (normalmente a velocidades más altas que en una CPU). Si usa Colab, asigne una GPU yendo a Tiempo de ejecución> Cambiar tipo de tiempo de ejecución> GPU.\n",
        "\n",
        "De forma predeterminada, los tensores se crean en la CPU. Necesitamos mover explícitamente los tensores a la GPU usando el método .to (después de verificar la disponibilidad de la GPU). Tenga en cuenta que copiar grandes tensores entre dispositivos puede resultar caro en términos de tiempo y memoria."
      ]
    },
    {
      "cell_type": "code",
      "metadata": {
        "id": "51S-h9tE_lwe"
      },
      "source": [
        "# We move our tensor to the GPU if available\n",
        "if torch.cuda.is_available():\n",
        "  tensor = tensor.to('cuda')"
      ],
      "execution_count": 47,
      "outputs": []
    },
    {
      "cell_type": "code",
      "metadata": {
        "id": "Qdv68NcoAmxi",
        "outputId": "198ad6fd-0481-4324-8ac8-d6a5cb9dc8be",
        "colab": {
          "base_uri": "https://localhost:8080/"
        }
      },
      "source": [
        "tensor.device"
      ],
      "execution_count": 48,
      "outputs": [
        {
          "output_type": "execute_result",
          "data": {
            "text/plain": [
              "device(type='cpu')"
            ]
          },
          "metadata": {
            "tags": []
          },
          "execution_count": 48
        }
      ]
    },
    {
      "cell_type": "code",
      "metadata": {
        "id": "_Fezu4QoAo7D"
      },
      "source": [
        ""
      ],
      "execution_count": null,
      "outputs": []
    }
  ]
}